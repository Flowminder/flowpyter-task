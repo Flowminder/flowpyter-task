{
 "cells": [
  {
   "cell_type": "code",
   "execution_count": null,
   "id": "d8ad71cb-69eb-4afd-afec-793c60b8d60b",
   "metadata": {},
   "outputs": [],
   "source": [
    "import flowmachine as fm\n",
    "fm.connect(\n",
    "    flowdb_connection_pool_overflow=20,\n",
    "    flowdb_connection_pool_size=5,\n",
    ")\n",
    "print(fm.core.context.get_db().available_dates)"
   ]
  },
  {
   "cell_type": "code",
   "execution_count": null,
   "id": "b351bebb-40b4-4b43-9e49-ea25a25db455",
   "metadata": {},
   "outputs": [],
   "source": [
    "success_msg = \"success\"\n",
    "print(f\"Notebook run {success_msg}\")"
   ]
  }
 ],
 "metadata": {
  "kernelspec": {
   "display_name": "Python 3 (ipykernel)",
   "language": "python",
   "name": "python3"
  },
  "language_info": {
   "codemirror_mode": {
    "name": "ipython",
    "version": 3
   },
   "file_extension": ".py",
   "mimetype": "text/x-python",
   "name": "python",
   "nbconvert_exporter": "python",
   "pygments_lexer": "ipython3",
   "version": "3.8.10"
  }
 },
 "nbformat": 4,
 "nbformat_minor": 5
}
