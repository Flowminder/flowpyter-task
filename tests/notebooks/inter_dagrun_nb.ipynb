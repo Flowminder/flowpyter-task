{
 "cells": [
  {
   "cell_type": "code",
   "execution_count": null,
   "id": "49136298-6cb1-4de6-a141-d19870bd29fa",
   "metadata": {
    "editable": true,
    "slideshow": {
     "slide_type": ""
    },
    "tags": []
   },
   "outputs": [],
   "source": [
    "from pathlib import Path\n",
    "inter_dag_message_path = Path(shared_data_dir) / \"message.txt\"\n",
    "if inter_dag_message_path.exists():\n",
    "    print(inter_dag_message_path.read_text())\n",
    "else:\n",
    "    out_text = \"DEAD\" + \"BEEF\"\n",
    "    inter_dag_message_path.write_text(out_text)"
   ]
  }
 ],
 "metadata": {
  "kernelspec": {
   "display_name": "Python 3 (ipykernel)",
   "language": "python",
   "name": "python3"
  },
  "language_info": {
   "codemirror_mode": {
    "name": "ipython",
    "version": 3
   },
   "file_extension": ".py",
   "mimetype": "text/x-python",
   "name": "python",
   "nbconvert_exporter": "python",
   "pygments_lexer": "ipython3",
   "version": "3.8.10"
  }
 },
 "nbformat": 4,
 "nbformat_minor": 5
}
