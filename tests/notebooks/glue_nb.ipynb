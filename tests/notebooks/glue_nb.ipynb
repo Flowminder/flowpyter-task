{
 "cells": [
  {
   "cell_type": "code",
   "execution_count": null,
   "id": "03b0d50b-0bb9-4b1b-aa51-04acbd122d98",
   "metadata": {
    "editable": true,
    "slideshow": {
     "slide_type": ""
    },
    "tags": [
     "parameters"
    ]
   },
   "outputs": [],
   "source": [
    "dagrun_data_dir = \"unset\"\n",
    "artifact_in = \"unset\""
   ]
  },
  {
   "cell_type": "code",
   "execution_count": null,
   "id": "6e04bb90-0ecc-48dd-a6f4-f6c39da7cf67",
   "metadata": {
    "editable": true,
    "slideshow": {
     "slide_type": ""
    },
    "tags": []
   },
   "outputs": [],
   "source": [
    "from pathlib import Path\n",
    "( Path(dagrun_data_dir) / artifact_out).write_text(\"DEADBEEF\")"
   ]
  }
 ],
 "metadata": {
  "kernelspec": {
   "display_name": "Python 3 (ipykernel)",
   "language": "python",
   "name": "python3"
  },
  "language_info": {
   "codemirror_mode": {
    "name": "ipython",
    "version": 3
   },
   "file_extension": ".py",
   "mimetype": "text/x-python",
   "name": "python",
   "nbconvert_exporter": "python",
   "pygments_lexer": "ipython3",
   "version": "3.8.10"
  }
 },
 "nbformat": 4,
 "nbformat_minor": 5
}
