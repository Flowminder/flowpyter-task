{
 "cells": [
  {
   "cell_type": "code",
   "execution_count": null,
   "id": "a7311d26-ce80-4488-ae9b-318063fd5cb2",
   "metadata": {
    "editable": true,
    "slideshow": {
     "slide_type": ""
    },
    "tags": [
     "parameters"
    ]
   },
   "outputs": [],
   "source": [
    "dagrun_data_dir = \"unset\"\n",
    "artifact_in = \"unset\""
   ]
  },
  {
   "cell_type": "code",
   "execution_count": null,
   "id": "cd042c95-580a-475d-8e8c-533f67b64be4",
   "metadata": {
    "editable": true,
    "slideshow": {
     "slide_type": ""
    },
    "tags": []
   },
   "outputs": [],
   "source": [
    "from pathlib import Path\n",
    "print(( Path(dagrun_data_dir) / artifact_in).read_text())"
   ]
  }
 ],
 "metadata": {
  "kernelspec": {
   "display_name": "Python 3 (ipykernel)",
   "language": "python",
   "name": "python3"
  },
  "language_info": {
   "codemirror_mode": {
    "name": "ipython",
    "version": 3
   },
   "file_extension": ".py",
   "mimetype": "text/x-python",
   "name": "python",
   "nbconvert_exporter": "python",
   "pygments_lexer": "ipython3",
   "version": "3.8.10"
  }
 },
 "nbformat": 4,
 "nbformat_minor": 5
}
