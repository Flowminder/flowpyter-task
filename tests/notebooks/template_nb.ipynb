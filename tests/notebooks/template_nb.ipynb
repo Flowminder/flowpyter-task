{
 "cells": [
  {
   "cell_type": "code",
   "execution_count": null,
   "id": "ae847a48-166b-4154-bb80-0175aac6d9b5",
   "metadata": {
    "editable": true,
    "slideshow": {
     "slide_type": ""
    },
    "tags": [
     "parameters"
    ]
   },
   "outputs": [],
   "source": [
    "test_var = \"unset\"\n",
    "template_dir = \"unset\"\n",
    "dagrun_data_dir = \"unset\""
   ]
  },
  {
   "cell_type": "code",
   "execution_count": null,
   "id": "2d9edafc-42d9-4316-88de-8891543a6222",
   "metadata": {
    "editable": true,
    "slideshow": {
     "slide_type": ""
    },
    "tags": []
   },
   "outputs": [],
   "source": [
    "from jinja2 import Environment, FileSystemLoader, select_autoescape\n",
    "from pathlib import Path\n",
    "env = Environment(\n",
    "    loader=FileSystemLoader(template_dir),\n",
    "    autoescape=False\n",
    ")\n",
    "template = env.get_template(\n",
    "    \"example_template.html\"\n",
    ")\n",
    "out = template.render(test_var = test_var)\n",
    "out_path = Path(dagrun_data_dir) / \"example_template_rendered.html\"\n",
    "out_path.write_text(out)"
   ]
  }
 ],
 "metadata": {
  "kernelspec": {
   "display_name": "Python 3 (ipykernel)",
   "language": "python",
   "name": "python3"
  },
  "language_info": {
   "codemirror_mode": {
    "name": "ipython",
    "version": 3
   },
   "file_extension": ".py",
   "mimetype": "text/x-python",
   "name": "python",
   "nbconvert_exporter": "python",
   "pygments_lexer": "ipython3",
   "version": "3.8.10"
  }
 },
 "nbformat": 4,
 "nbformat_minor": 5
}
