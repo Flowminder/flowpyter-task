{
 "cells": [
  {
   "cell_type": "code",
   "execution_count": null,
   "id": "01a64cae-bd7d-46fc-b4ae-d4565880b40b",
   "metadata": {
    "scrolled": true
   },
   "outputs": [],
   "source": [
    "import flowclient as fc\n",
    "import os\n",
    "fc_conn = fc.connect(\n",
    "    url=os.environ[\"FLOWAPI_URL\"],\n",
    "    token=os.environ[\"FLOWAPI_TOKEN\"]\n",
    ")\n",
    "print(fc.get_available_dates(connection=fc_conn))"
   ]
  },
  {
   "cell_type": "code",
   "execution_count": null,
   "id": "a0f0bd8c-b27e-4158-9c36-6f81f486a422",
   "metadata": {},
   "outputs": [],
   "source": [
    "msg = \"success\"\n",
    "print(f\"Notebook run {msg}\")"
   ]
  }
 ],
 "metadata": {
  "kernelspec": {
   "display_name": "Python 3 (ipykernel)",
   "language": "python",
   "name": "python3"
  },
  "language_info": {
   "codemirror_mode": {
    "name": "ipython",
    "version": 3
   },
   "file_extension": ".py",
   "mimetype": "text/x-python",
   "name": "python",
   "nbconvert_exporter": "python",
   "pygments_lexer": "ipython3",
   "version": "3.8.10"
  }
 },
 "nbformat": 4,
 "nbformat_minor": 5
}
