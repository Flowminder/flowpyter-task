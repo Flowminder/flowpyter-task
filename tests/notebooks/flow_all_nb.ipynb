{
 "cells": [
  {
   "cell_type": "code",
   "execution_count": null,
   "id": "62c2ae59-9686-44a4-8498-e2700c3af458",
   "metadata": {},
   "outputs": [],
   "source": [
    "import flowclient as fc\n",
    "import os\n",
    "fc_conn = fc.connect(\n",
    "    url=os.environ[\"FLOWAPI_URL\"],\n",
    "    token=os.environ[\"FLOWAPI_TOKEN\"]\n",
    ")\n",
    "print(fc.get_available_dates(connection=fc_conn))"
   ]
  },
  {
   "cell_type": "code",
   "execution_count": null,
   "id": "7d555605-1dc5-4487-b1c7-d5298130f51b",
   "metadata": {},
   "outputs": [],
   "source": [
    "import flowmachine as fm\n",
    "fm.connect(\n",
    "    flowdb_connection_pool_overflow=20,\n",
    "    flowdb_connection_pool_size=5,\n",
    ")\n",
    "print(fm.core.context.get_db().available_dates)"
   ]
  },
  {
   "cell_type": "code",
   "execution_count": null,
   "id": "fc7272fe-1572-4f66-8ef0-d67415d252d1",
   "metadata": {},
   "outputs": [],
   "source": [
    "msg = \"success\"\n",
    "print(f\"Notebook run {msg}\")"
   ]
  }
 ],
 "metadata": {
  "kernelspec": {
   "display_name": "Python 3 (ipykernel)",
   "language": "python",
   "name": "python3"
  },
  "language_info": {
   "codemirror_mode": {
    "name": "ipython",
    "version": 3
   },
   "file_extension": ".py",
   "mimetype": "text/x-python",
   "name": "python",
   "nbconvert_exporter": "python",
   "pygments_lexer": "ipython3",
   "version": "3.8.10"
  }
 },
 "nbformat": 4,
 "nbformat_minor": 5
}
